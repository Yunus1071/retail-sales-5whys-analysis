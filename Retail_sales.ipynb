{
 "cells": [
  {
   "cell_type": "code",
   "execution_count": 1,
   "id": "a8ed4091-3586-4d1d-b486-6dfe103c4e2e",
   "metadata": {},
   "outputs": [],
   "source": [
    "import pandas as pd"
   ]
  },
  {
   "cell_type": "code",
   "execution_count": 2,
   "id": "314b46bd-dcaf-4557-b4bb-c087a3b1ead5",
   "metadata": {},
   "outputs": [],
   "source": [
    "df=pd.read_csv(r\"C:\\Users\\abdul\\Downloads\\Retail_Sales_Data.csv\")"
   ]
  },
  {
   "cell_type": "code",
   "execution_count": 3,
   "id": "2f879d2a-9bc1-487c-b098-ca1c14873837",
   "metadata": {},
   "outputs": [
    {
     "data": {
      "text/html": [
       "<div>\n",
       "<style scoped>\n",
       "    .dataframe tbody tr th:only-of-type {\n",
       "        vertical-align: middle;\n",
       "    }\n",
       "\n",
       "    .dataframe tbody tr th {\n",
       "        vertical-align: top;\n",
       "    }\n",
       "\n",
       "    .dataframe thead th {\n",
       "        text-align: right;\n",
       "    }\n",
       "</style>\n",
       "<table border=\"1\" class=\"dataframe\">\n",
       "  <thead>\n",
       "    <tr style=\"text-align: right;\">\n",
       "      <th></th>\n",
       "      <th>Order_ID</th>\n",
       "      <th>Date</th>\n",
       "      <th>Customer_ID</th>\n",
       "      <th>Product_Category</th>\n",
       "      <th>Product_Name</th>\n",
       "      <th>Quantity_Sold</th>\n",
       "      <th>Unit_Price</th>\n",
       "      <th>Total_Revenue</th>\n",
       "      <th>Region</th>\n",
       "    </tr>\n",
       "  </thead>\n",
       "  <tbody>\n",
       "    <tr>\n",
       "      <th>0</th>\n",
       "      <td>1</td>\n",
       "      <td>2024-01-01</td>\n",
       "      <td>1051</td>\n",
       "      <td>Sports</td>\n",
       "      <td>Laptop</td>\n",
       "      <td>1</td>\n",
       "      <td>627.62</td>\n",
       "      <td>627.62</td>\n",
       "      <td>West</td>\n",
       "    </tr>\n",
       "    <tr>\n",
       "      <th>1</th>\n",
       "      <td>2</td>\n",
       "      <td>2024-01-02</td>\n",
       "      <td>1092</td>\n",
       "      <td>Clothing</td>\n",
       "      <td>Sofa</td>\n",
       "      <td>8</td>\n",
       "      <td>457.25</td>\n",
       "      <td>3658.00</td>\n",
       "      <td>South</td>\n",
       "    </tr>\n",
       "    <tr>\n",
       "      <th>2</th>\n",
       "      <td>3</td>\n",
       "      <td>2024-01-03</td>\n",
       "      <td>1014</td>\n",
       "      <td>Home Decor</td>\n",
       "      <td>Sofa</td>\n",
       "      <td>3</td>\n",
       "      <td>590.74</td>\n",
       "      <td>1772.22</td>\n",
       "      <td>East</td>\n",
       "    </tr>\n",
       "    <tr>\n",
       "      <th>3</th>\n",
       "      <td>4</td>\n",
       "      <td>2024-01-04</td>\n",
       "      <td>1071</td>\n",
       "      <td>Books</td>\n",
       "      <td>Laptop</td>\n",
       "      <td>3</td>\n",
       "      <td>176.33</td>\n",
       "      <td>528.99</td>\n",
       "      <td>West</td>\n",
       "    </tr>\n",
       "    <tr>\n",
       "      <th>4</th>\n",
       "      <td>5</td>\n",
       "      <td>2024-01-05</td>\n",
       "      <td>1060</td>\n",
       "      <td>Electronics</td>\n",
       "      <td>Novel</td>\n",
       "      <td>6</td>\n",
       "      <td>739.51</td>\n",
       "      <td>4437.06</td>\n",
       "      <td>South</td>\n",
       "    </tr>\n",
       "  </tbody>\n",
       "</table>\n",
       "</div>"
      ],
      "text/plain": [
       "   Order_ID        Date  Customer_ID Product_Category Product_Name  \\\n",
       "0         1  2024-01-01         1051           Sports       Laptop   \n",
       "1         2  2024-01-02         1092         Clothing         Sofa   \n",
       "2         3  2024-01-03         1014       Home Decor         Sofa   \n",
       "3         4  2024-01-04         1071            Books       Laptop   \n",
       "4         5  2024-01-05         1060      Electronics        Novel   \n",
       "\n",
       "   Quantity_Sold  Unit_Price  Total_Revenue Region  \n",
       "0              1      627.62         627.62   West  \n",
       "1              8      457.25        3658.00  South  \n",
       "2              3      590.74        1772.22   East  \n",
       "3              3      176.33         528.99   West  \n",
       "4              6      739.51        4437.06  South  "
      ]
     },
     "execution_count": 3,
     "metadata": {},
     "output_type": "execute_result"
    }
   ],
   "source": [
    "df.head()"
   ]
  },
  {
   "cell_type": "code",
   "execution_count": 22,
   "id": "8c32d838-a58c-4ace-ae23-5aae308914fa",
   "metadata": {},
   "outputs": [
    {
     "name": "stdout",
     "output_type": "stream",
     "text": [
      "<class 'pandas.core.frame.DataFrame'>\n",
      "RangeIndex: 500 entries, 0 to 499\n",
      "Data columns (total 10 columns):\n",
      " #   Column            Non-Null Count  Dtype         \n",
      "---  ------            --------------  -----         \n",
      " 0   Order_ID          500 non-null    int64         \n",
      " 1   Date              500 non-null    datetime64[ns]\n",
      " 2   Customer_ID       500 non-null    int64         \n",
      " 3   Product_Category  500 non-null    object        \n",
      " 4   Product_Name      500 non-null    object        \n",
      " 5   Quantity_Sold     500 non-null    int64         \n",
      " 6   Unit_Price        500 non-null    float64       \n",
      " 7   Total_Revenue     500 non-null    float64       \n",
      " 8   Region            500 non-null    object        \n",
      " 9   Month             500 non-null    int32         \n",
      "dtypes: datetime64[ns](1), float64(2), int32(1), int64(3), object(3)\n",
      "memory usage: 37.2+ KB\n"
     ]
    }
   ],
   "source": [
    "df.info()"
   ]
  },
  {
   "cell_type": "code",
   "execution_count": 4,
   "id": "feac91e4-3b97-4457-89fa-d6c1ff75cfa7",
   "metadata": {},
   "outputs": [
    {
     "name": "stdout",
     "output_type": "stream",
     "text": [
      "<class 'pandas.core.frame.DataFrame'>\n",
      "RangeIndex: 500 entries, 0 to 499\n",
      "Data columns (total 9 columns):\n",
      " #   Column            Non-Null Count  Dtype  \n",
      "---  ------            --------------  -----  \n",
      " 0   Order_ID          500 non-null    int64  \n",
      " 1   Date              500 non-null    object \n",
      " 2   Customer_ID       500 non-null    int64  \n",
      " 3   Product_Category  500 non-null    object \n",
      " 4   Product_Name      500 non-null    object \n",
      " 5   Quantity_Sold     500 non-null    int64  \n",
      " 6   Unit_Price        500 non-null    float64\n",
      " 7   Total_Revenue     500 non-null    float64\n",
      " 8   Region            500 non-null    object \n",
      "dtypes: float64(2), int64(3), object(4)\n",
      "memory usage: 35.3+ KB\n"
     ]
    }
   ],
   "source": [
    "# Get dataset information\n",
    "df.info()"
   ]
  },
  {
   "cell_type": "code",
   "execution_count": 24,
   "id": "7175eb76-de6e-4cd3-ac94-10850dd96a50",
   "metadata": {},
   "outputs": [
    {
     "data": {
      "text/plain": [
       "Order_ID            0\n",
       "Date                0\n",
       "Customer_ID         0\n",
       "Product_Category    0\n",
       "Product_Name        0\n",
       "Quantity_Sold       0\n",
       "Unit_Price          0\n",
       "Total_Revenue       0\n",
       "Region              0\n",
       "Month               0\n",
       "dtype: int64"
      ]
     },
     "execution_count": 24,
     "metadata": {},
     "output_type": "execute_result"
    }
   ],
   "source": [
    "df.isnull().sum()"
   ]
  },
  {
   "cell_type": "code",
   "execution_count": 5,
   "id": "3f8ceea4-57a5-448f-bb3f-19953e555761",
   "metadata": {},
   "outputs": [
    {
     "data": {
      "text/html": [
       "<div>\n",
       "<style scoped>\n",
       "    .dataframe tbody tr th:only-of-type {\n",
       "        vertical-align: middle;\n",
       "    }\n",
       "\n",
       "    .dataframe tbody tr th {\n",
       "        vertical-align: top;\n",
       "    }\n",
       "\n",
       "    .dataframe thead th {\n",
       "        text-align: right;\n",
       "    }\n",
       "</style>\n",
       "<table border=\"1\" class=\"dataframe\">\n",
       "  <thead>\n",
       "    <tr style=\"text-align: right;\">\n",
       "      <th></th>\n",
       "      <th>Order_ID</th>\n",
       "      <th>Customer_ID</th>\n",
       "      <th>Quantity_Sold</th>\n",
       "      <th>Unit_Price</th>\n",
       "      <th>Total_Revenue</th>\n",
       "    </tr>\n",
       "  </thead>\n",
       "  <tbody>\n",
       "    <tr>\n",
       "      <th>count</th>\n",
       "      <td>500.000000</td>\n",
       "      <td>500.00000</td>\n",
       "      <td>500.000000</td>\n",
       "      <td>500.000000</td>\n",
       "      <td>500.000000</td>\n",
       "    </tr>\n",
       "    <tr>\n",
       "      <th>mean</th>\n",
       "      <td>250.500000</td>\n",
       "      <td>1048.87400</td>\n",
       "      <td>4.994000</td>\n",
       "      <td>498.732320</td>\n",
       "      <td>2572.735420</td>\n",
       "    </tr>\n",
       "    <tr>\n",
       "      <th>std</th>\n",
       "      <td>144.481833</td>\n",
       "      <td>29.56983</td>\n",
       "      <td>2.622923</td>\n",
       "      <td>285.765325</td>\n",
       "      <td>2163.990442</td>\n",
       "    </tr>\n",
       "    <tr>\n",
       "      <th>min</th>\n",
       "      <td>1.000000</td>\n",
       "      <td>1000.00000</td>\n",
       "      <td>1.000000</td>\n",
       "      <td>13.190000</td>\n",
       "      <td>19.240000</td>\n",
       "    </tr>\n",
       "    <tr>\n",
       "      <th>25%</th>\n",
       "      <td>125.750000</td>\n",
       "      <td>1023.00000</td>\n",
       "      <td>3.000000</td>\n",
       "      <td>245.667500</td>\n",
       "      <td>728.965000</td>\n",
       "    </tr>\n",
       "    <tr>\n",
       "      <th>50%</th>\n",
       "      <td>250.500000</td>\n",
       "      <td>1050.00000</td>\n",
       "      <td>5.000000</td>\n",
       "      <td>509.165000</td>\n",
       "      <td>1995.500000</td>\n",
       "    </tr>\n",
       "    <tr>\n",
       "      <th>75%</th>\n",
       "      <td>375.250000</td>\n",
       "      <td>1072.25000</td>\n",
       "      <td>7.000000</td>\n",
       "      <td>739.627500</td>\n",
       "      <td>3849.530000</td>\n",
       "    </tr>\n",
       "    <tr>\n",
       "      <th>max</th>\n",
       "      <td>500.000000</td>\n",
       "      <td>1099.00000</td>\n",
       "      <td>9.000000</td>\n",
       "      <td>998.360000</td>\n",
       "      <td>8967.330000</td>\n",
       "    </tr>\n",
       "  </tbody>\n",
       "</table>\n",
       "</div>"
      ],
      "text/plain": [
       "         Order_ID  Customer_ID  Quantity_Sold  Unit_Price  Total_Revenue\n",
       "count  500.000000    500.00000     500.000000  500.000000     500.000000\n",
       "mean   250.500000   1048.87400       4.994000  498.732320    2572.735420\n",
       "std    144.481833     29.56983       2.622923  285.765325    2163.990442\n",
       "min      1.000000   1000.00000       1.000000   13.190000      19.240000\n",
       "25%    125.750000   1023.00000       3.000000  245.667500     728.965000\n",
       "50%    250.500000   1050.00000       5.000000  509.165000    1995.500000\n",
       "75%    375.250000   1072.25000       7.000000  739.627500    3849.530000\n",
       "max    500.000000   1099.00000       9.000000  998.360000    8967.330000"
      ]
     },
     "execution_count": 5,
     "metadata": {},
     "output_type": "execute_result"
    }
   ],
   "source": [
    "# Get summary statistics\n",
    "df.describe()"
   ]
  },
  {
   "cell_type": "code",
   "execution_count": 6,
   "id": "75406cbe-341c-4c2f-ae9b-bb5e8a5308b4",
   "metadata": {},
   "outputs": [
    {
     "data": {
      "text/plain": [
       "Index(['Order_ID', 'Date', 'Customer_ID', 'Product_Category', 'Product_Name',\n",
       "       'Quantity_Sold', 'Unit_Price', 'Total_Revenue', 'Region'],\n",
       "      dtype='object')"
      ]
     },
     "execution_count": 6,
     "metadata": {},
     "output_type": "execute_result"
    }
   ],
   "source": [
    "df.columns"
   ]
  },
  {
   "cell_type": "code",
   "execution_count": 7,
   "id": "09f7ebab-c02e-4d44-99f4-2c99962a9fb5",
   "metadata": {},
   "outputs": [
    {
     "data": {
      "text/plain": [
       "Order_ID            0\n",
       "Date                0\n",
       "Customer_ID         0\n",
       "Product_Category    0\n",
       "Product_Name        0\n",
       "Quantity_Sold       0\n",
       "Unit_Price          0\n",
       "Total_Revenue       0\n",
       "Region              0\n",
       "dtype: int64"
      ]
     },
     "execution_count": 7,
     "metadata": {},
     "output_type": "execute_result"
    }
   ],
   "source": [
    "# Check for missing values\n",
    "df.isnull().sum()"
   ]
  },
  {
   "cell_type": "code",
   "execution_count": 8,
   "id": "8ba7c89b-b98e-41e6-a03d-ec1c23ba5932",
   "metadata": {},
   "outputs": [
    {
     "data": {
      "text/html": [
       "<div>\n",
       "<style scoped>\n",
       "    .dataframe tbody tr th:only-of-type {\n",
       "        vertical-align: middle;\n",
       "    }\n",
       "\n",
       "    .dataframe tbody tr th {\n",
       "        vertical-align: top;\n",
       "    }\n",
       "\n",
       "    .dataframe thead th {\n",
       "        text-align: right;\n",
       "    }\n",
       "</style>\n",
       "<table border=\"1\" class=\"dataframe\">\n",
       "  <thead>\n",
       "    <tr style=\"text-align: right;\">\n",
       "      <th></th>\n",
       "      <th>Order_ID</th>\n",
       "      <th>Date</th>\n",
       "      <th>Customer_ID</th>\n",
       "      <th>Product_Category</th>\n",
       "      <th>Product_Name</th>\n",
       "      <th>Quantity_Sold</th>\n",
       "      <th>Unit_Price</th>\n",
       "      <th>Total_Revenue</th>\n",
       "      <th>Region</th>\n",
       "    </tr>\n",
       "  </thead>\n",
       "  <tbody>\n",
       "    <tr>\n",
       "      <th>0</th>\n",
       "      <td>1</td>\n",
       "      <td>2024-01-01</td>\n",
       "      <td>1051</td>\n",
       "      <td>Sports</td>\n",
       "      <td>Laptop</td>\n",
       "      <td>1</td>\n",
       "      <td>627.62</td>\n",
       "      <td>627.62</td>\n",
       "      <td>West</td>\n",
       "    </tr>\n",
       "    <tr>\n",
       "      <th>1</th>\n",
       "      <td>2</td>\n",
       "      <td>2024-01-02</td>\n",
       "      <td>1092</td>\n",
       "      <td>Clothing</td>\n",
       "      <td>Sofa</td>\n",
       "      <td>8</td>\n",
       "      <td>457.25</td>\n",
       "      <td>3658.00</td>\n",
       "      <td>South</td>\n",
       "    </tr>\n",
       "    <tr>\n",
       "      <th>2</th>\n",
       "      <td>3</td>\n",
       "      <td>2024-01-03</td>\n",
       "      <td>1014</td>\n",
       "      <td>Home Decor</td>\n",
       "      <td>Sofa</td>\n",
       "      <td>3</td>\n",
       "      <td>590.74</td>\n",
       "      <td>1772.22</td>\n",
       "      <td>East</td>\n",
       "    </tr>\n",
       "    <tr>\n",
       "      <th>3</th>\n",
       "      <td>4</td>\n",
       "      <td>2024-01-04</td>\n",
       "      <td>1071</td>\n",
       "      <td>Books</td>\n",
       "      <td>Laptop</td>\n",
       "      <td>3</td>\n",
       "      <td>176.33</td>\n",
       "      <td>528.99</td>\n",
       "      <td>West</td>\n",
       "    </tr>\n",
       "    <tr>\n",
       "      <th>4</th>\n",
       "      <td>5</td>\n",
       "      <td>2024-01-05</td>\n",
       "      <td>1060</td>\n",
       "      <td>Electronics</td>\n",
       "      <td>Novel</td>\n",
       "      <td>6</td>\n",
       "      <td>739.51</td>\n",
       "      <td>4437.06</td>\n",
       "      <td>South</td>\n",
       "    </tr>\n",
       "  </tbody>\n",
       "</table>\n",
       "</div>"
      ],
      "text/plain": [
       "   Order_ID        Date  Customer_ID Product_Category Product_Name  \\\n",
       "0         1  2024-01-01         1051           Sports       Laptop   \n",
       "1         2  2024-01-02         1092         Clothing         Sofa   \n",
       "2         3  2024-01-03         1014       Home Decor         Sofa   \n",
       "3         4  2024-01-04         1071            Books       Laptop   \n",
       "4         5  2024-01-05         1060      Electronics        Novel   \n",
       "\n",
       "   Quantity_Sold  Unit_Price  Total_Revenue Region  \n",
       "0              1      627.62         627.62   West  \n",
       "1              8      457.25        3658.00  South  \n",
       "2              3      590.74        1772.22   East  \n",
       "3              3      176.33         528.99   West  \n",
       "4              6      739.51        4437.06  South  "
      ]
     },
     "execution_count": 8,
     "metadata": {},
     "output_type": "execute_result"
    }
   ],
   "source": [
    "df.head()"
   ]
  },
  {
   "cell_type": "markdown",
   "id": "052c4b5c-a559-4b08-8d92-eb5a35d82dab",
   "metadata": {},
   "source": [
    "# # Analyze Sales Trends"
   ]
  },
  {
   "cell_type": "code",
   "execution_count": 35,
   "id": "74ccf008-d58a-4ce4-9d7b-ebfa3412873e",
   "metadata": {},
   "outputs": [
    {
     "data": {
      "text/plain": [
       "Date\n",
       "2024-01     85155.90\n",
       "2024-02     79256.58\n",
       "2024-03     75937.76\n",
       "2024-04     87863.46\n",
       "2024-05     67056.79\n",
       "2024-06     74630.13\n",
       "2024-07     79941.71\n",
       "2024-08     75358.17\n",
       "2024-09     67795.62\n",
       "2024-10    103194.84\n",
       "2024-11     85242.29\n",
       "2024-12     76074.19\n",
       "2025-01     84218.86\n",
       "2025-02     58594.26\n",
       "2025-03     67241.99\n",
       "2025-04     78823.36\n",
       "2025-05     39981.80\n",
       "Freq: M, Name: Total_Revenue, dtype: float64"
      ]
     },
     "execution_count": 35,
     "metadata": {},
     "output_type": "execute_result"
    }
   ],
   "source": [
    "\n",
    "import matplotlib.pyplot as plt\n",
    "\n",
    "# # Convert 'Date' column to datetime format\n",
    "# df[\"Date\"] = pd.to_datetime(df[\"Date\"])\n",
    "\n",
    "# # Aggregate revenue by month\n",
    "# monthly_sales = df.groupby(df[\"Date\"].dt.to_period(\"M\"))[\"Total_Revenue\"].sum()\n",
    "# monthly_sales\n",
    "\n",
    "\n",
    "# Convert 'Date' column to datetime format\n",
    "df[\"Date\"] = pd.to_datetime(df[\"Date\"])\n",
    "\n",
    "# Aggregate revenue by month\n",
    "monthly_sales = df.groupby(df[\"Date\"].dt.to_period(\"M\"))[\"Total_Revenue\"].sum()\n",
    "monthly_sales"
   ]
  },
  {
   "cell_type": "markdown",
   "id": "28e05797-a878-403b-85e5-303cec525fc9",
   "metadata": {},
   "source": [
    "# Plot revenue trend\n",
    "# If there’s a decline in the most recent months, further investigation is needed."
   ]
  },
  {
   "cell_type": "code",
   "execution_count": 30,
   "id": "b89cb492-7850-4a49-95f2-8956824b9b09",
   "metadata": {},
   "outputs": [
    {
     "data": {
      "image/png": "[encoded data removed]",
      "text/plain": [
       "<Figure size 1000x500 with 1 Axes>"
      ]
     },
     "metadata": {},
     "output_type": "display_data"
    }
   ],
   "source": [
    "plt.figure(figsize=(10,5))\n",
    "monthly_sales.plot(marker='o', linestyle='-')\n",
    "plt.title(\"Monthly Sales Revenue Trend\")\n",
    "plt.xlabel(\"Month\")\n",
    "plt.ylabel(\"Total Revenue\")\n",
    "plt.show()"
   ]
  },
  {
   "cell_type": "markdown",
   "id": "a9f4b50d-f84f-4482-b167-fd7079ba8e73",
   "metadata": {},
   "source": [
    "# Identifying the Decline in Product Sales"
   ]
  },
  {
   "cell_type": "code",
   "execution_count": 11,
   "id": "25bd0d29-580d-40c3-9315-cc4722e3fff5",
   "metadata": {},
   "outputs": [
    {
     "data": {
      "text/plain": [
       "Product_Category\n",
       "Books          301179.29\n",
       "Electronics    284511.07\n",
       "Clothing       272033.25\n",
       "Home Decor     220984.88\n",
       "Sports         207659.22\n",
       "Name: Total_Revenue, dtype: float64"
      ]
     },
     "execution_count": 11,
     "metadata": {},
     "output_type": "execute_result"
    }
   ],
   "source": [
    "category_sales = df.groupby(\"Product_Category\")[\"Total_Revenue\"].sum().sort_values(ascending=False)\n",
    "category_sales"
   ]
  },
  {
   "cell_type": "code",
   "execution_count": 12,
   "id": "3dd7013d-fae6-4496-b7af-1ec27b353a08",
   "metadata": {},
   "outputs": [
    {
     "data": {
      "image/png": "[encoded data removed]",
      "text/plain": [
       "<Figure size 640x480 with 1 Axes>"
      ]
     },
     "metadata": {},
     "output_type": "display_data"
    }
   ],
   "source": [
    "category_sales.plot(kind=\"bar\", title=\"Category_Sales\")\n",
    "plt.xlabel(\"Product_Category\")\n",
    "plt.ylabel(\"Total_Revenue\")\n",
    "plt.show()"
   ]
  },
  {
   "cell_type": "markdown",
   "id": "4f61a99f-22e6-4667-9e1c-8f56ea351287",
   "metadata": {},
   "source": [
    " # Comparing Sales Across Different Regions"
   ]
  },
  {
   "cell_type": "code",
   "execution_count": 13,
   "id": "cf4652c1-0310-4131-8bec-24d472bb7b4f",
   "metadata": {},
   "outputs": [
    {
     "data": {
      "text/plain": [
       "Region\n",
       "East     343081.14\n",
       "North    348086.91\n",
       "South    265637.51\n",
       "West     329562.15\n",
       "Name: Total_Revenue, dtype: float64"
      ]
     },
     "execution_count": 13,
     "metadata": {},
     "output_type": "execute_result"
    }
   ],
   "source": [
    "region_sales = df.groupby(\"Region\")[\"Total_Revenue\"].sum()\n",
    "region_sales"
   ]
  },
  {
   "cell_type": "code",
   "execution_count": 14,
   "id": "4fab28f5-3985-466e-b712-463b04a96a26",
   "metadata": {},
   "outputs": [
    {
     "data": {
      "image/png": "[encoded data removed]",
      "text/plain": [
       "<Figure size 640x480 with 1 Axes>"
      ]
     },
     "metadata": {},
     "output_type": "display_data"
    }
   ],
   "source": [
    "region_sales.plot(kind=\"bar\", title=\"Total Revenue by Region\")\n",
    "plt.xlabel(\"Region\")\n",
    "plt.ylabel(\"Total Revenue\")\n",
    "plt.show()"
   ]
  },
  {
   "cell_type": "markdown",
   "id": "e916050f-4f86-479b-bf53-0f77496c7873",
   "metadata": {},
   "source": [
    "# Investigating Competitor Impact (Discounted Prices)"
   ]
  },
  {
   "cell_type": "code",
   "execution_count": 15,
   "id": "08338aa4-db8c-484d-b29c-33736992aeec",
   "metadata": {},
   "outputs": [
    {
     "data": {
      "text/plain": [
       "Product_Category\n",
       "Books          496.704955\n",
       "Clothing       496.297059\n",
       "Electronics    536.069612\n",
       "Home Decor     498.901573\n",
       "Sports         463.075789\n",
       "Name: Unit_Price, dtype: float64"
      ]
     },
     "execution_count": 15,
     "metadata": {},
     "output_type": "execute_result"
    }
   ],
   "source": [
    "avg_price_per_category = df.groupby(\"Product_Category\")[\"Unit_Price\"].mean()\n",
    "avg_price_per_category"
   ]
  },
  {
   "cell_type": "code",
   "execution_count": 16,
   "id": "3807be7e-9bd5-44c4-a320-a0ecd3710604",
   "metadata": {},
   "outputs": [
    {
     "data": {
      "image/png": "[encoded data removed]",
      "text/plain": [
       "<Figure size 640x480 with 1 Axes>"
      ]
     },
     "metadata": {},
     "output_type": "display_data"
    }
   ],
   "source": [
    "avg_price_per_category.plot(kind=\"bar\", title=\"Average Price per Product Category\")\n",
    "plt.xlabel(\"Product Category\")\n",
    "plt.ylabel(\"Average Unit Price\")\n",
    "plt.show()"
   ]
  },
  {
   "cell_type": "markdown",
   "id": "5cf2a30c-c592-4315-9d37-ab20e6b1bc15",
   "metadata": {},
   "source": [
    "# Check the Effect of Promotions"
   ]
  },
  {
   "cell_type": "code",
   "execution_count": 17,
   "id": "44d9ac5f-b926-44ed-b636-e7bca067b2d8",
   "metadata": {},
   "outputs": [
    {
     "data": {
      "text/html": [
       "<div>\n",
       "<style scoped>\n",
       "    .dataframe tbody tr th:only-of-type {\n",
       "        vertical-align: middle;\n",
       "    }\n",
       "\n",
       "    .dataframe tbody tr th {\n",
       "        vertical-align: top;\n",
       "    }\n",
       "\n",
       "    .dataframe thead th {\n",
       "        text-align: right;\n",
       "    }\n",
       "</style>\n",
       "<table border=\"1\" class=\"dataframe\">\n",
       "  <thead>\n",
       "    <tr style=\"text-align: right;\">\n",
       "      <th></th>\n",
       "      <th>Before Promo</th>\n",
       "      <th>After Promo</th>\n",
       "    </tr>\n",
       "    <tr>\n",
       "      <th>Product_Category</th>\n",
       "      <th></th>\n",
       "      <th></th>\n",
       "    </tr>\n",
       "  </thead>\n",
       "  <tbody>\n",
       "    <tr>\n",
       "      <th>Books</th>\n",
       "      <td>57509.68</td>\n",
       "      <td>243669.61</td>\n",
       "    </tr>\n",
       "    <tr>\n",
       "      <th>Clothing</th>\n",
       "      <td>64902.46</td>\n",
       "      <td>207130.79</td>\n",
       "    </tr>\n",
       "    <tr>\n",
       "      <th>Electronics</th>\n",
       "      <td>85718.01</td>\n",
       "      <td>198793.06</td>\n",
       "    </tr>\n",
       "    <tr>\n",
       "      <th>Home Decor</th>\n",
       "      <td>37704.02</td>\n",
       "      <td>183280.86</td>\n",
       "    </tr>\n",
       "    <tr>\n",
       "      <th>Sports</th>\n",
       "      <td>61391.43</td>\n",
       "      <td>146267.79</td>\n",
       "    </tr>\n",
       "  </tbody>\n",
       "</table>\n",
       "</div>"
      ],
      "text/plain": [
       "                  Before Promo  After Promo\n",
       "Product_Category                           \n",
       "Books                 57509.68    243669.61\n",
       "Clothing              64902.46    207130.79\n",
       "Electronics           85718.01    198793.06\n",
       "Home Decor            37704.02    183280.86\n",
       "Sports                61391.43    146267.79"
      ]
     },
     "execution_count": 17,
     "metadata": {},
     "output_type": "execute_result"
    }
   ],
   "source": [
    "df[\"Month\"] = df[\"Date\"].dt.month\n",
    "sales_before_promo = df[df[\"Month\"] < 3].groupby(\"Product_Category\")[\"Total_Revenue\"].sum()\n",
    "sales_after_promo = df[df[\"Month\"] >= 3].groupby(\"Product_Category\")[\"Total_Revenue\"].sum()\n",
    "promo_comparison = pd.DataFrame({\"Before Promo\": sales_before_promo, \"After Promo\": sales_after_promo})\n",
    "promo_comparison"
   ]
  },
  {
   "cell_type": "code",
   "execution_count": 18,
   "id": "f2f555a5-3d9a-40bd-a55c-aa86e2c23d4e",
   "metadata": {},
   "outputs": [
    {
     "data": {
      "image/png": "[encoded data removed]",
      "text/plain": [
       "<Figure size 640x480 with 1 Axes>"
      ]
     },
     "metadata": {},
     "output_type": "display_data"
    }
   ],
   "source": [
    "promo_comparison.plot(kind=\"bar\", title=\"Sales Before and After Promotions\")\n",
    "plt.xlabel(\"Product Category\")\n",
    "plt.ylabel(\"Total Revenue\")\n",
    "plt.show()"
   ]
  },
  {
   "cell_type": "markdown",
   "id": "33de8576-8488-4900-9b7f-784509f50803",
   "metadata": {},
   "source": [
    "# Optimize Pricing Strategy"
   ]
  },
  {
   "cell_type": "code",
   "execution_count": 44,
   "id": "b844efe4-0ea7-4591-b4e8-2578b94c43a4",
   "metadata": {},
   "outputs": [
    {
     "data": {
      "text/html": [
       "<div>\n",
       "<style scoped>\n",
       "    .dataframe tbody tr th:only-of-type {\n",
       "        vertical-align: middle;\n",
       "    }\n",
       "\n",
       "    .dataframe tbody tr th {\n",
       "        vertical-align: top;\n",
       "    }\n",
       "\n",
       "    .dataframe thead th {\n",
       "        text-align: right;\n",
       "    }\n",
       "</style>\n",
       "<table border=\"1\" class=\"dataframe\">\n",
       "  <thead>\n",
       "    <tr style=\"text-align: right;\">\n",
       "      <th></th>\n",
       "      <th>Product_Name</th>\n",
       "      <th>Unit_Price</th>\n",
       "      <th>Suggested_Price</th>\n",
       "    </tr>\n",
       "  </thead>\n",
       "  <tbody>\n",
       "    <tr>\n",
       "      <th>0</th>\n",
       "      <td>Laptop</td>\n",
       "      <td>627.62</td>\n",
       "      <td>564.858</td>\n",
       "    </tr>\n",
       "    <tr>\n",
       "      <th>1</th>\n",
       "      <td>Sofa</td>\n",
       "      <td>457.25</td>\n",
       "      <td>411.525</td>\n",
       "    </tr>\n",
       "    <tr>\n",
       "      <th>2</th>\n",
       "      <td>Sofa</td>\n",
       "      <td>590.74</td>\n",
       "      <td>531.666</td>\n",
       "    </tr>\n",
       "    <tr>\n",
       "      <th>3</th>\n",
       "      <td>Laptop</td>\n",
       "      <td>176.33</td>\n",
       "      <td>158.697</td>\n",
       "    </tr>\n",
       "    <tr>\n",
       "      <th>4</th>\n",
       "      <td>Novel</td>\n",
       "      <td>739.51</td>\n",
       "      <td>665.559</td>\n",
       "    </tr>\n",
       "    <tr>\n",
       "      <th>5</th>\n",
       "      <td>Basketball</td>\n",
       "      <td>864.17</td>\n",
       "      <td>777.753</td>\n",
       "    </tr>\n",
       "    <tr>\n",
       "      <th>6</th>\n",
       "      <td>Basketball</td>\n",
       "      <td>224.57</td>\n",
       "      <td>202.113</td>\n",
       "    </tr>\n",
       "    <tr>\n",
       "      <th>7</th>\n",
       "      <td>T-shirt</td>\n",
       "      <td>104.76</td>\n",
       "      <td>94.284</td>\n",
       "    </tr>\n",
       "    <tr>\n",
       "      <th>8</th>\n",
       "      <td>Novel</td>\n",
       "      <td>33.40</td>\n",
       "      <td>30.060</td>\n",
       "    </tr>\n",
       "    <tr>\n",
       "      <th>9</th>\n",
       "      <td>Sofa</td>\n",
       "      <td>645.55</td>\n",
       "      <td>580.995</td>\n",
       "    </tr>\n",
       "  </tbody>\n",
       "</table>\n",
       "</div>"
      ],
      "text/plain": [
       "  Product_Name  Unit_Price  Suggested_Price\n",
       "0       Laptop      627.62          564.858\n",
       "1         Sofa      457.25          411.525\n",
       "2         Sofa      590.74          531.666\n",
       "3       Laptop      176.33          158.697\n",
       "4        Novel      739.51          665.559\n",
       "5   Basketball      864.17          777.753\n",
       "6   Basketball      224.57          202.113\n",
       "7      T-shirt      104.76           94.284\n",
       "8        Novel       33.40           30.060\n",
       "9         Sofa      645.55          580.995"
      ]
     },
     "execution_count": 44,
     "metadata": {},
     "output_type": "execute_result"
    }
   ],
   "source": [
    "df[\"Suggested_Price\"] = df[\"Unit_Price\"] * 0.9\n",
    "df[[\"Product_Name\", \"Unit_Price\", \"Suggested_Price\"]].head(10)"
   ]
  },
  {
   "cell_type": "markdown",
   "id": "b986b2ea-74df-43e2-9947-875b04e57ed7",
   "metadata": {},
   "source": [
    "# implement Customer Loyalty Programs"
   ]
  },
  {
   "cell_type": "code",
   "execution_count": 50,
   "id": "1715102a-70a4-4502-bc7e-91e98e7b8790",
   "metadata": {},
   "outputs": [
    {
     "name": "stdout",
     "output_type": "stream",
     "text": [
      "Customer_ID\n",
      "1032    39225.65\n",
      "1001    33360.14\n",
      "1034    32499.62\n",
      "1098    28239.58\n",
      "1020    25943.00\n",
      "1095    24439.39\n",
      "1000    24054.73\n",
      "1053    24002.84\n",
      "1091    23970.29\n",
      "1092    23241.13\n",
      "Name: Total_Revenue, dtype: float64\n"
     ]
    }
   ],
   "source": [
    "top_customers = df.groupby(\"Customer_ID\")[\"Total_Revenue\"].sum().sort_values(ascending=False).head(10)\n",
    "print(top_customers)"
   ]
  },
  {
   "cell_type": "markdown",
   "id": "cdd160a2-5e56-41a8-bf54-31df244d4651",
   "metadata": {},
   "source": [
    "# Final Recommendations\n",
    "# 1. Adjust Pricing: Reduce unit prices by 10% on affected products.\n",
    "# 2. Promotions & Discounts: Offer targeted promotions in underperforming categories.\n",
    "# 3. Regional Targeting: Increase marketing in regions with declining sales.\n",
    "# 4. Customer Engagement: Implement a loyalty program for frequent customers.\n",
    "# 5. Competitive Monitoring: Regularly check competitor pricing and discounts."
   ]
  },
  {
   "cell_type": "code",
   "execution_count": null,
   "id": "8375cbbe-9dc9-4ecf-b3db-cfdb1e5b57a8",
   "metadata": {},
   "outputs": [],
   "source": []
  }
 ],
 "metadata": {
  "kernelspec": {
   "display_name": "Python 3 (ipykernel)",
   "language": "python",
   "name": "python3"
  },
  "language_info": {
   "codemirror_mode": {
    "name": "ipython",
    "version": 3
   },
   "file_extension": ".py",
   "mimetype": "text/x-python",
   "name": "python",
   "nbconvert_exporter": "python",
   "pygments_lexer": "ipython3",
   "version": "3.12.7"
  }
 },
 "nbformat": 4,
 "nbformat_minor": 5
}
